{
 "cells": [
  {
   "cell_type": "code",
   "execution_count": 180,
   "metadata": {},
   "outputs": [],
   "source": [
    "import pandas as pd\n",
    "import numpy as np\n",
    "import matplotlib.pyplot as plt"
   ]
  },
  {
   "cell_type": "code",
   "execution_count": 181,
   "metadata": {},
   "outputs": [
    {
     "data": {
      "text/html": [
       "<div>\n",
       "<style scoped>\n",
       "    .dataframe tbody tr th:only-of-type {\n",
       "        vertical-align: middle;\n",
       "    }\n",
       "\n",
       "    .dataframe tbody tr th {\n",
       "        vertical-align: top;\n",
       "    }\n",
       "\n",
       "    .dataframe thead th {\n",
       "        text-align: right;\n",
       "    }\n",
       "</style>\n",
       "<table border=\"1\" class=\"dataframe\">\n",
       "  <thead>\n",
       "    <tr style=\"text-align: right;\">\n",
       "      <th></th>\n",
       "      <th>_unit_id</th>\n",
       "      <th>_golden</th>\n",
       "      <th>_unit_state</th>\n",
       "      <th>_trusted_judgments</th>\n",
       "      <th>_last_judgment_at</th>\n",
       "      <th>gender</th>\n",
       "      <th>gender:confidence</th>\n",
       "      <th>profile_yn</th>\n",
       "      <th>profile_yn:confidence</th>\n",
       "      <th>created</th>\n",
       "      <th>...</th>\n",
       "      <th>profileimage</th>\n",
       "      <th>retweet_count</th>\n",
       "      <th>sidebar_color</th>\n",
       "      <th>text</th>\n",
       "      <th>tweet_coord</th>\n",
       "      <th>tweet_count</th>\n",
       "      <th>tweet_created</th>\n",
       "      <th>tweet_id</th>\n",
       "      <th>tweet_location</th>\n",
       "      <th>user_timezone</th>\n",
       "    </tr>\n",
       "  </thead>\n",
       "  <tbody>\n",
       "    <tr>\n",
       "      <th>3332</th>\n",
       "      <td>815722628</td>\n",
       "      <td>False</td>\n",
       "      <td>finalized</td>\n",
       "      <td>3</td>\n",
       "      <td>10/27/15 2:01</td>\n",
       "      <td>female</td>\n",
       "      <td>1.0000</td>\n",
       "      <td>yes</td>\n",
       "      <td>1.0</td>\n",
       "      <td>7/23/11 9:12</td>\n",
       "      <td>...</td>\n",
       "      <td>https://pbs.twimg.com/profile_images/655879787...</td>\n",
       "      <td>0</td>\n",
       "      <td>65B0DA</td>\n",
       "      <td>The weather today = my heart</td>\n",
       "      <td>NaN</td>\n",
       "      <td>21499</td>\n",
       "      <td>10/26/15 12:40</td>\n",
       "      <td>6.587300e+17</td>\n",
       "      <td>NaN</td>\n",
       "      <td>Quito</td>\n",
       "    </tr>\n",
       "    <tr>\n",
       "      <th>4074</th>\n",
       "      <td>815723372</td>\n",
       "      <td>False</td>\n",
       "      <td>finalized</td>\n",
       "      <td>3</td>\n",
       "      <td>10/26/15 23:35</td>\n",
       "      <td>brand</td>\n",
       "      <td>0.6654</td>\n",
       "      <td>yes</td>\n",
       "      <td>1.0</td>\n",
       "      <td>4/24/13 9:19</td>\n",
       "      <td>...</td>\n",
       "      <td>https://pbs.twimg.com/profile_images/625972808...</td>\n",
       "      <td>0</td>\n",
       "      <td>FFFFFF</td>\n",
       "      <td>3 new unfollowers in the last day. Via https:/...</td>\n",
       "      <td>NaN</td>\n",
       "      <td>24161</td>\n",
       "      <td>10/26/15 12:40</td>\n",
       "      <td>6.587300e+17</td>\n",
       "      <td>The Netherlands</td>\n",
       "      <td>NaN</td>\n",
       "    </tr>\n",
       "    <tr>\n",
       "      <th>3479</th>\n",
       "      <td>815722775</td>\n",
       "      <td>False</td>\n",
       "      <td>finalized</td>\n",
       "      <td>3</td>\n",
       "      <td>10/27/15 1:02</td>\n",
       "      <td>male</td>\n",
       "      <td>1.0000</td>\n",
       "      <td>yes</td>\n",
       "      <td>1.0</td>\n",
       "      <td>2/23/14 14:47</td>\n",
       "      <td>...</td>\n",
       "      <td>https://pbs.twimg.com/profile_images/621366409...</td>\n",
       "      <td>0</td>\n",
       "      <td>C0DEED</td>\n",
       "      <td>@pschiller Hey master, where's Beats Pill+ in ...</td>\n",
       "      <td>NaN</td>\n",
       "      <td>2667</td>\n",
       "      <td>10/26/15 12:40</td>\n",
       "      <td>6.587300e+17</td>\n",
       "      <td>NaN</td>\n",
       "      <td>Berlin</td>\n",
       "    </tr>\n",
       "    <tr>\n",
       "      <th>10712</th>\n",
       "      <td>815730081</td>\n",
       "      <td>False</td>\n",
       "      <td>finalized</td>\n",
       "      <td>3</td>\n",
       "      <td>10/27/15 1:31</td>\n",
       "      <td>brand</td>\n",
       "      <td>0.6732</td>\n",
       "      <td>yes</td>\n",
       "      <td>1.0</td>\n",
       "      <td>10/24/15 17:05</td>\n",
       "      <td>...</td>\n",
       "      <td>https://pbs.twimg.com/profile_images/658072493...</td>\n",
       "      <td>0</td>\n",
       "      <td>0</td>\n",
       "      <td>5 Fruits and Vegetables That Look Suspiciously...</td>\n",
       "      <td>NaN</td>\n",
       "      <td>215</td>\n",
       "      <td>10/26/15 13:20</td>\n",
       "      <td>6.587400e+17</td>\n",
       "      <td>Follow her for inspiration,</td>\n",
       "      <td>NaN</td>\n",
       "    </tr>\n",
       "    <tr>\n",
       "      <th>5525</th>\n",
       "      <td>815724834</td>\n",
       "      <td>False</td>\n",
       "      <td>finalized</td>\n",
       "      <td>3</td>\n",
       "      <td>10/26/15 23:30</td>\n",
       "      <td>brand</td>\n",
       "      <td>0.6542</td>\n",
       "      <td>yes</td>\n",
       "      <td>1.0</td>\n",
       "      <td>3/1/14 6:32</td>\n",
       "      <td>...</td>\n",
       "      <td>https://pbs.twimg.com/profile_images/652373816...</td>\n",
       "      <td>0</td>\n",
       "      <td>0</td>\n",
       "      <td>I didn't come to play the game I just came to ...</td>\n",
       "      <td>NaN</td>\n",
       "      <td>8571</td>\n",
       "      <td>10/26/15 12:40</td>\n",
       "      <td>6.587300e+17</td>\n",
       "      <td>Chasin my Dreams!</td>\n",
       "      <td>Eastern Time (US &amp; Canada)</td>\n",
       "    </tr>\n",
       "  </tbody>\n",
       "</table>\n",
       "<p>5 rows × 26 columns</p>\n",
       "</div>"
      ],
      "text/plain": [
       "        _unit_id  _golden _unit_state  _trusted_judgments _last_judgment_at  \\\n",
       "3332   815722628    False   finalized                   3     10/27/15 2:01   \n",
       "4074   815723372    False   finalized                   3    10/26/15 23:35   \n",
       "3479   815722775    False   finalized                   3     10/27/15 1:02   \n",
       "10712  815730081    False   finalized                   3     10/27/15 1:31   \n",
       "5525   815724834    False   finalized                   3    10/26/15 23:30   \n",
       "\n",
       "       gender  gender:confidence profile_yn  profile_yn:confidence  \\\n",
       "3332   female             1.0000        yes                    1.0   \n",
       "4074    brand             0.6654        yes                    1.0   \n",
       "3479     male             1.0000        yes                    1.0   \n",
       "10712   brand             0.6732        yes                    1.0   \n",
       "5525    brand             0.6542        yes                    1.0   \n",
       "\n",
       "              created             ...              \\\n",
       "3332     7/23/11 9:12             ...               \n",
       "4074     4/24/13 9:19             ...               \n",
       "3479    2/23/14 14:47             ...               \n",
       "10712  10/24/15 17:05             ...               \n",
       "5525      3/1/14 6:32             ...               \n",
       "\n",
       "                                            profileimage  retweet_count  \\\n",
       "3332   https://pbs.twimg.com/profile_images/655879787...              0   \n",
       "4074   https://pbs.twimg.com/profile_images/625972808...              0   \n",
       "3479   https://pbs.twimg.com/profile_images/621366409...              0   \n",
       "10712  https://pbs.twimg.com/profile_images/658072493...              0   \n",
       "5525   https://pbs.twimg.com/profile_images/652373816...              0   \n",
       "\n",
       "      sidebar_color                                               text  \\\n",
       "3332         65B0DA                       The weather today = my heart   \n",
       "4074         FFFFFF  3 new unfollowers in the last day. Via https:/...   \n",
       "3479         C0DEED  @pschiller Hey master, where's Beats Pill+ in ...   \n",
       "10712             0  5 Fruits and Vegetables That Look Suspiciously...   \n",
       "5525              0  I didn't come to play the game I just came to ...   \n",
       "\n",
       "      tweet_coord tweet_count   tweet_created      tweet_id  \\\n",
       "3332          NaN       21499  10/26/15 12:40  6.587300e+17   \n",
       "4074          NaN       24161  10/26/15 12:40  6.587300e+17   \n",
       "3479          NaN        2667  10/26/15 12:40  6.587300e+17   \n",
       "10712         NaN         215  10/26/15 13:20  6.587400e+17   \n",
       "5525          NaN        8571  10/26/15 12:40  6.587300e+17   \n",
       "\n",
       "                       tweet_location               user_timezone  \n",
       "3332                              NaN                       Quito  \n",
       "4074                  The Netherlands                         NaN  \n",
       "3479                              NaN                      Berlin  \n",
       "10712  Follow her for inspiration,                            NaN  \n",
       "5525                Chasin my Dreams!  Eastern Time (US & Canada)  \n",
       "\n",
       "[5 rows x 26 columns]"
      ]
     },
     "execution_count": 181,
     "metadata": {},
     "output_type": "execute_result"
    }
   ],
   "source": [
    "df = pd.read_csv('data/gender-classifier-DFE-791531.csv', encoding='latin-1')\n",
    "df.sample(5)"
   ]
  },
  {
   "cell_type": "code",
   "execution_count": 182,
   "metadata": {},
   "outputs": [
    {
     "name": "stdout",
     "output_type": "stream",
     "text": [
      "<class 'pandas.core.frame.DataFrame'>\n",
      "RangeIndex: 20050 entries, 0 to 20049\n",
      "Data columns (total 26 columns):\n",
      "_unit_id                 20050 non-null int64\n",
      "_golden                  20050 non-null bool\n",
      "_unit_state              20050 non-null object\n",
      "_trusted_judgments       20050 non-null int64\n",
      "_last_judgment_at        20000 non-null object\n",
      "gender                   19953 non-null object\n",
      "gender:confidence        20024 non-null float64\n",
      "profile_yn               20050 non-null object\n",
      "profile_yn:confidence    20050 non-null float64\n",
      "created                  20050 non-null object\n",
      "description              16306 non-null object\n",
      "fav_number               20050 non-null int64\n",
      "gender_gold              50 non-null object\n",
      "link_color               20050 non-null object\n",
      "name                     20050 non-null object\n",
      "profile_yn_gold          50 non-null object\n",
      "profileimage             20050 non-null object\n",
      "retweet_count            20050 non-null int64\n",
      "sidebar_color            20050 non-null object\n",
      "text                     20050 non-null object\n",
      "tweet_coord              159 non-null object\n",
      "tweet_count              20050 non-null int64\n",
      "tweet_created            20050 non-null object\n",
      "tweet_id                 20050 non-null float64\n",
      "tweet_location           12566 non-null object\n",
      "user_timezone            12252 non-null object\n",
      "dtypes: bool(1), float64(3), int64(5), object(17)\n",
      "memory usage: 3.8+ MB\n"
     ]
    }
   ],
   "source": [
    "df.info()"
   ]
  },
  {
   "cell_type": "code",
   "execution_count": 183,
   "metadata": {},
   "outputs": [
    {
     "data": {
      "text/plain": [
       "(20050, 26)"
      ]
     },
     "execution_count": 183,
     "metadata": {},
     "output_type": "execute_result"
    }
   ],
   "source": [
    "df.shape"
   ]
  },
  {
   "cell_type": "code",
   "execution_count": 184,
   "metadata": {},
   "outputs": [
    {
     "data": {
      "text/plain": [
       "(20050, 12)"
      ]
     },
     "execution_count": 184,
     "metadata": {},
     "output_type": "execute_result"
    }
   ],
   "source": [
    "# Drop unnecessary columns/features\n",
    "#data = df[df['profile_yn_gold'] == 'no']\n",
    "column_to_drop = ['_unit_id','_last_judgment_at','user_timezone','tweet_coord','tweet_count','tweet_created',\n",
    "                  'tweet_id','tweet_location','profileimage','created','_golden','_unit_state',\n",
    "                  '_trusted_judgments','gender_gold']\n",
    "df.drop(columns =column_to_drop, inplace=True, axis=1)\n",
    "df.shape"
   ]
  },
  {
   "cell_type": "code",
   "execution_count": 185,
   "metadata": {},
   "outputs": [
    {
     "name": "stdout",
     "output_type": "stream",
     "text": [
      "<class 'pandas.core.frame.DataFrame'>\n",
      "RangeIndex: 20050 entries, 0 to 20049\n",
      "Data columns (total 12 columns):\n",
      "gender                   19953 non-null object\n",
      "gender:confidence        20024 non-null float64\n",
      "profile_yn               20050 non-null object\n",
      "profile_yn:confidence    20050 non-null float64\n",
      "description              16306 non-null object\n",
      "fav_number               20050 non-null int64\n",
      "link_color               20050 non-null object\n",
      "name                     20050 non-null object\n",
      "profile_yn_gold          50 non-null object\n",
      "retweet_count            20050 non-null int64\n",
      "sidebar_color            20050 non-null object\n",
      "text                     20050 non-null object\n",
      "dtypes: float64(2), int64(2), object(8)\n",
      "memory usage: 1.8+ MB\n"
     ]
    }
   ],
   "source": [
    "df.info()"
   ]
  },
  {
   "cell_type": "code",
   "execution_count": 186,
   "metadata": {},
   "outputs": [
    {
     "data": {
      "text/plain": [
       "female     6700\n",
       "male       6194\n",
       "brand      5942\n",
       "unknown    1117\n",
       "Name: gender, dtype: int64"
      ]
     },
     "execution_count": 186,
     "metadata": {},
     "output_type": "execute_result"
    }
   ],
   "source": [
    "# df.groupby('gender').size()\n",
    "df['gender'].value_counts()"
   ]
  },
  {
   "cell_type": "code",
   "execution_count": 187,
   "metadata": {},
   "outputs": [
    {
     "data": {
      "text/plain": [
       "female    6700\n",
       "male      6194\n",
       "brand     5942\n",
       "Name: gender, dtype: int64"
      ]
     },
     "execution_count": 187,
     "metadata": {},
     "output_type": "execute_result"
    }
   ],
   "source": [
    "drop_items_idx = df[df['gender'] == 'unknown'].index\n",
    "df.drop(index = drop_items_idx, inplace = True)\n",
    "\n",
    "df['gender'].value_counts()"
   ]
  },
  {
   "cell_type": "code",
   "execution_count": 188,
   "metadata": {},
   "outputs": [
    {
     "name": "stdout",
     "output_type": "stream",
     "text": [
      "profile_yn information:\n",
      " yes    18836\n",
      "no        97\n",
      "Name: profile_yn, dtype: int64\n"
     ]
    },
    {
     "data": {
      "text/plain": [
       "109      NaN\n",
       "137      NaN\n",
       "496      NaN\n",
       "582      NaN\n",
       "679      NaN\n",
       "749      NaN\n",
       "1179     NaN\n",
       "1664     NaN\n",
       "1698     NaN\n",
       "1963     NaN\n",
       "2118     NaN\n",
       "2245     NaN\n",
       "2272     NaN\n",
       "2377     NaN\n",
       "2537     NaN\n",
       "2596     NaN\n",
       "2717     NaN\n",
       "2751     NaN\n",
       "2765     NaN\n",
       "2886     NaN\n",
       "2980     NaN\n",
       "3190     NaN\n",
       "3195     NaN\n",
       "3219     NaN\n",
       "3337     NaN\n",
       "3381     NaN\n",
       "3553     NaN\n",
       "3791     NaN\n",
       "3942     NaN\n",
       "4008     NaN\n",
       "        ... \n",
       "12103    NaN\n",
       "12889    NaN\n",
       "13007    NaN\n",
       "14045    NaN\n",
       "15018    NaN\n",
       "15243    NaN\n",
       "15270    NaN\n",
       "15428    NaN\n",
       "15450    NaN\n",
       "15740    NaN\n",
       "15921    NaN\n",
       "16208    NaN\n",
       "16365    NaN\n",
       "16640    NaN\n",
       "16886    NaN\n",
       "16991    NaN\n",
       "17114    NaN\n",
       "17163    NaN\n",
       "18001    NaN\n",
       "18048    NaN\n",
       "18063    NaN\n",
       "18070    NaN\n",
       "18122    NaN\n",
       "18136    NaN\n",
       "18303    NaN\n",
       "18524    NaN\n",
       "18700    NaN\n",
       "18840    NaN\n",
       "19773    NaN\n",
       "19842    NaN\n",
       "Name: gender, Length: 97, dtype: object"
      ]
     },
     "execution_count": 188,
     "metadata": {},
     "output_type": "execute_result"
    }
   ],
   "source": [
    "print ('profile_yn information:\\n',df['profile_yn'].value_counts())\n",
    "# All of 97 instances with profile_yn == no are all NaN in gender\n",
    "df[df['profile_yn'] == 'no']['gender']"
   ]
  },
  {
   "cell_type": "code",
   "execution_count": 189,
   "metadata": {},
   "outputs": [
    {
     "name": "stdout",
     "output_type": "stream",
     "text": [
      "yes    18836\n",
      "Name: profile_yn, dtype: int64\n"
     ]
    },
    {
     "data": {
      "text/plain": [
       "(18836, 9)"
      ]
     },
     "execution_count": 189,
     "metadata": {},
     "output_type": "execute_result"
    }
   ],
   "source": [
    "drop_items_idx = df[df['profile_yn'] == 'no'].index\n",
    "df.drop(index = drop_items_idx, inplace = True)\n",
    "print (df['profile_yn'].value_counts())\n",
    "# Drop not-required columns\n",
    "df.drop(columns = ['profile_yn','profile_yn:confidence','profile_yn_gold'], inplace = True)\n",
    "df.shape\n"
   ]
  },
  {
   "cell_type": "code",
   "execution_count": 198,
   "metadata": {},
   "outputs": [],
   "source": [
    "gender_dic = dict(df['gender'].value_counts())\n"
   ]
  },
  {
   "cell_type": "code",
   "execution_count": 200,
   "metadata": {},
   "outputs": [
    {
     "data": {
      "image/png": "[encoded data removed]",
      "text/plain": [
       "<Figure size 432x288 with 1 Axes>"
      ]
     },
     "metadata": {},
     "output_type": "display_data"
    }
   ],
   "source": [
    "plt.bar(range(len(gender_dic)), list(gender_dic.values()), align='center')\n",
    "plt.xticks(range(len(gender_dic)), list(gender_dic.keys()))\n",
    "plt.show()"
   ]
  },
  {
   "cell_type": "code",
   "execution_count": null,
   "metadata": {},
   "outputs": [],
   "source": []
  }
 ],
 "metadata": {
  "kernelspec": {
   "display_name": "Python 3",
   "language": "python",
   "name": "python3"
  },
  "language_info": {
   "codemirror_mode": {
    "name": "ipython",
    "version": 3
   },
   "file_extension": ".py",
   "mimetype": "text/x-python",
   "name": "python",
   "nbconvert_exporter": "python",
   "pygments_lexer": "ipython3",
   "version": "3.6.5"
  }
 },
 "nbformat": 4,
 "nbformat_minor": 2
}
