{
 "cells": [
  {
   "cell_type": "code",
   "execution_count": 29,
   "metadata": {},
   "outputs": [],
   "source": [
    "import pandas as pd\n",
    "import numpy as np\n",
    "import matplotlib.pyplot as plt\n",
    "import re\n",
    "from sklearn.feature_extraction.text import CountVectorizer"
   ]
  },
  {
   "cell_type": "code",
   "execution_count": 14,
   "metadata": {},
   "outputs": [
    {
     "data": {
      "text/html": [
       "<div>\n",
       "<style scoped>\n",
       "    .dataframe tbody tr th:only-of-type {\n",
       "        vertical-align: middle;\n",
       "    }\n",
       "\n",
       "    .dataframe tbody tr th {\n",
       "        vertical-align: top;\n",
       "    }\n",
       "\n",
       "    .dataframe thead th {\n",
       "        text-align: right;\n",
       "    }\n",
       "</style>\n",
       "<table border=\"1\" class=\"dataframe\">\n",
       "  <thead>\n",
       "    <tr style=\"text-align: right;\">\n",
       "      <th></th>\n",
       "      <th>_unit_id</th>\n",
       "      <th>_golden</th>\n",
       "      <th>_unit_state</th>\n",
       "      <th>_trusted_judgments</th>\n",
       "      <th>_last_judgment_at</th>\n",
       "      <th>gender</th>\n",
       "      <th>gender:confidence</th>\n",
       "      <th>profile_yn</th>\n",
       "      <th>profile_yn:confidence</th>\n",
       "      <th>created</th>\n",
       "      <th>...</th>\n",
       "      <th>profileimage</th>\n",
       "      <th>retweet_count</th>\n",
       "      <th>sidebar_color</th>\n",
       "      <th>text</th>\n",
       "      <th>tweet_coord</th>\n",
       "      <th>tweet_count</th>\n",
       "      <th>tweet_created</th>\n",
       "      <th>tweet_id</th>\n",
       "      <th>tweet_location</th>\n",
       "      <th>user_timezone</th>\n",
       "    </tr>\n",
       "  </thead>\n",
       "  <tbody>\n",
       "    <tr>\n",
       "      <th>7420</th>\n",
       "      <td>815726738</td>\n",
       "      <td>False</td>\n",
       "      <td>finalized</td>\n",
       "      <td>3</td>\n",
       "      <td>10/27/15 0:05</td>\n",
       "      <td>brand</td>\n",
       "      <td>1.0000</td>\n",
       "      <td>yes</td>\n",
       "      <td>1.0</td>\n",
       "      <td>4/20/09 6:36</td>\n",
       "      <td>...</td>\n",
       "      <td>https://pbs.twimg.com/profile_images/422400356...</td>\n",
       "      <td>0</td>\n",
       "      <td>0</td>\n",
       "      <td>Your Last Week to Vote Early | The Katy News h...</td>\n",
       "      <td>NaN</td>\n",
       "      <td>37175</td>\n",
       "      <td>10/26/15 12:40</td>\n",
       "      <td>6.587300e+17</td>\n",
       "      <td>Katy, Texas</td>\n",
       "      <td>Central Time (US &amp; Canada)</td>\n",
       "    </tr>\n",
       "    <tr>\n",
       "      <th>279</th>\n",
       "      <td>815719505</td>\n",
       "      <td>False</td>\n",
       "      <td>finalized</td>\n",
       "      <td>3</td>\n",
       "      <td>10/26/15 23:21</td>\n",
       "      <td>brand</td>\n",
       "      <td>0.6674</td>\n",
       "      <td>yes</td>\n",
       "      <td>1.0</td>\n",
       "      <td>9/27/10 11:30</td>\n",
       "      <td>...</td>\n",
       "      <td>https://pbs.twimg.com/profile_images/113421566...</td>\n",
       "      <td>0</td>\n",
       "      <td>181A1E</td>\n",
       "      <td>I posted 67 photos on Facebook in the album \"B...</td>\n",
       "      <td>NaN</td>\n",
       "      <td>299</td>\n",
       "      <td>10/26/15 12:40</td>\n",
       "      <td>6.587300e+17</td>\n",
       "      <td>Portland, OR</td>\n",
       "      <td>Pacific Time (US &amp; Canada)</td>\n",
       "    </tr>\n",
       "    <tr>\n",
       "      <th>5520</th>\n",
       "      <td>815724829</td>\n",
       "      <td>False</td>\n",
       "      <td>finalized</td>\n",
       "      <td>3</td>\n",
       "      <td>10/26/15 22:29</td>\n",
       "      <td>brand</td>\n",
       "      <td>1.0000</td>\n",
       "      <td>yes</td>\n",
       "      <td>1.0</td>\n",
       "      <td>4/17/13 16:58</td>\n",
       "      <td>...</td>\n",
       "      <td>https://abs.twimg.com/sticky/default_profile_i...</td>\n",
       "      <td>0</td>\n",
       "      <td>C0DEED</td>\n",
       "      <td>Get Weather Updates from The Weather Channel. ...</td>\n",
       "      <td>NaN</td>\n",
       "      <td>36423</td>\n",
       "      <td>10/26/15 12:40</td>\n",
       "      <td>6.587300e+17</td>\n",
       "      <td>NaN</td>\n",
       "      <td>NaN</td>\n",
       "    </tr>\n",
       "    <tr>\n",
       "      <th>475</th>\n",
       "      <td>815719702</td>\n",
       "      <td>False</td>\n",
       "      <td>finalized</td>\n",
       "      <td>3</td>\n",
       "      <td>10/26/15 22:47</td>\n",
       "      <td>brand</td>\n",
       "      <td>1.0000</td>\n",
       "      <td>yes</td>\n",
       "      <td>1.0</td>\n",
       "      <td>5/6/10 11:01</td>\n",
       "      <td>...</td>\n",
       "      <td>https://pbs.twimg.com/profile_images/521705666...</td>\n",
       "      <td>0</td>\n",
       "      <td>0</td>\n",
       "      <td>_Ù_Ä_Ù_Ä_Ù_Ä // Our favorite little boy @ponch...</td>\n",
       "      <td>NaN</td>\n",
       "      <td>5891</td>\n",
       "      <td>10/26/15 12:40</td>\n",
       "      <td>6.587300e+17</td>\n",
       "      <td>LA</td>\n",
       "      <td>Pacific Time (US &amp; Canada)</td>\n",
       "    </tr>\n",
       "    <tr>\n",
       "      <th>17551</th>\n",
       "      <td>815737086</td>\n",
       "      <td>False</td>\n",
       "      <td>finalized</td>\n",
       "      <td>3</td>\n",
       "      <td>10/27/15 0:44</td>\n",
       "      <td>female</td>\n",
       "      <td>1.0000</td>\n",
       "      <td>yes</td>\n",
       "      <td>1.0</td>\n",
       "      <td>7/6/11 15:07</td>\n",
       "      <td>...</td>\n",
       "      <td>https://pbs.twimg.com/profile_images/657050250...</td>\n",
       "      <td>0</td>\n",
       "      <td>EEEEEE</td>\n",
       "      <td>A little girl just ran into GR's screaming \"IC...</td>\n",
       "      <td>NaN</td>\n",
       "      <td>50142</td>\n",
       "      <td>10/26/15 13:19</td>\n",
       "      <td>6.587400e+17</td>\n",
       "      <td>NaN</td>\n",
       "      <td>Central Time (US &amp; Canada)</td>\n",
       "    </tr>\n",
       "  </tbody>\n",
       "</table>\n",
       "<p>5 rows × 26 columns</p>\n",
       "</div>"
      ],
      "text/plain": [
       "        _unit_id  _golden _unit_state  _trusted_judgments _last_judgment_at  \\\n",
       "7420   815726738    False   finalized                   3     10/27/15 0:05   \n",
       "279    815719505    False   finalized                   3    10/26/15 23:21   \n",
       "5520   815724829    False   finalized                   3    10/26/15 22:29   \n",
       "475    815719702    False   finalized                   3    10/26/15 22:47   \n",
       "17551  815737086    False   finalized                   3     10/27/15 0:44   \n",
       "\n",
       "       gender  gender:confidence profile_yn  profile_yn:confidence  \\\n",
       "7420    brand             1.0000        yes                    1.0   \n",
       "279     brand             0.6674        yes                    1.0   \n",
       "5520    brand             1.0000        yes                    1.0   \n",
       "475     brand             1.0000        yes                    1.0   \n",
       "17551  female             1.0000        yes                    1.0   \n",
       "\n",
       "             created             ...              \\\n",
       "7420    4/20/09 6:36             ...               \n",
       "279    9/27/10 11:30             ...               \n",
       "5520   4/17/13 16:58             ...               \n",
       "475     5/6/10 11:01             ...               \n",
       "17551   7/6/11 15:07             ...               \n",
       "\n",
       "                                            profileimage  retweet_count  \\\n",
       "7420   https://pbs.twimg.com/profile_images/422400356...              0   \n",
       "279    https://pbs.twimg.com/profile_images/113421566...              0   \n",
       "5520   https://abs.twimg.com/sticky/default_profile_i...              0   \n",
       "475    https://pbs.twimg.com/profile_images/521705666...              0   \n",
       "17551  https://pbs.twimg.com/profile_images/657050250...              0   \n",
       "\n",
       "      sidebar_color                                               text  \\\n",
       "7420              0  Your Last Week to Vote Early | The Katy News h...   \n",
       "279          181A1E  I posted 67 photos on Facebook in the album \"B...   \n",
       "5520         C0DEED  Get Weather Updates from The Weather Channel. ...   \n",
       "475               0  _Ù_Ä_Ù_Ä_Ù_Ä // Our favorite little boy @ponch...   \n",
       "17551        EEEEEE  A little girl just ran into GR's screaming \"IC...   \n",
       "\n",
       "      tweet_coord tweet_count   tweet_created      tweet_id tweet_location  \\\n",
       "7420          NaN       37175  10/26/15 12:40  6.587300e+17    Katy, Texas   \n",
       "279           NaN         299  10/26/15 12:40  6.587300e+17   Portland, OR   \n",
       "5520          NaN       36423  10/26/15 12:40  6.587300e+17            NaN   \n",
       "475           NaN        5891  10/26/15 12:40  6.587300e+17             LA   \n",
       "17551         NaN       50142  10/26/15 13:19  6.587400e+17            NaN   \n",
       "\n",
       "                    user_timezone  \n",
       "7420   Central Time (US & Canada)  \n",
       "279    Pacific Time (US & Canada)  \n",
       "5520                          NaN  \n",
       "475    Pacific Time (US & Canada)  \n",
       "17551  Central Time (US & Canada)  \n",
       "\n",
       "[5 rows x 26 columns]"
      ]
     },
     "execution_count": 14,
     "metadata": {},
     "output_type": "execute_result"
    }
   ],
   "source": [
    "df = pd.read_csv('data/gender-classifier-DFE-791531.csv', encoding='latin-1')\n",
    "df.sample(5)"
   ]
  },
  {
   "cell_type": "code",
   "execution_count": 15,
   "metadata": {},
   "outputs": [
    {
     "data": {
      "text/plain": [
       "(20050, 26)"
      ]
     },
     "execution_count": 15,
     "metadata": {},
     "output_type": "execute_result"
    }
   ],
   "source": [
    "df.shape"
   ]
  },
  {
   "cell_type": "code",
   "execution_count": 16,
   "metadata": {},
   "outputs": [
    {
     "data": {
      "text/plain": [
       "(20050, 12)"
      ]
     },
     "execution_count": 16,
     "metadata": {},
     "output_type": "execute_result"
    }
   ],
   "source": [
    "# Drop unnecessary columns/features\n",
    "#data = df[df['profile_yn_gold'] == 'no']\n",
    "column_to_drop = ['_unit_id','_last_judgment_at','user_timezone','tweet_coord','tweet_count','tweet_created',\n",
    "                  'tweet_id','tweet_location','profileimage','created','_golden','_unit_state',\n",
    "                  '_trusted_judgments','gender_gold']\n",
    "df.drop(columns =column_to_drop, inplace=True, axis=1)\n",
    "df.shape"
   ]
  },
  {
   "cell_type": "code",
   "execution_count": 17,
   "metadata": {},
   "outputs": [
    {
     "name": "stdout",
     "output_type": "stream",
     "text": [
      "<class 'pandas.core.frame.DataFrame'>\n",
      "RangeIndex: 20050 entries, 0 to 20049\n",
      "Data columns (total 12 columns):\n",
      "gender                   19953 non-null object\n",
      "gender:confidence        20024 non-null float64\n",
      "profile_yn               20050 non-null object\n",
      "profile_yn:confidence    20050 non-null float64\n",
      "description              16306 non-null object\n",
      "fav_number               20050 non-null int64\n",
      "link_color               20050 non-null object\n",
      "name                     20050 non-null object\n",
      "profile_yn_gold          50 non-null object\n",
      "retweet_count            20050 non-null int64\n",
      "sidebar_color            20050 non-null object\n",
      "text                     20050 non-null object\n",
      "dtypes: float64(2), int64(2), object(8)\n",
      "memory usage: 1.8+ MB\n"
     ]
    }
   ],
   "source": [
    "df.info()"
   ]
  },
  {
   "cell_type": "code",
   "execution_count": 18,
   "metadata": {},
   "outputs": [
    {
     "data": {
      "text/plain": [
       "female     6700\n",
       "male       6194\n",
       "brand      5942\n",
       "unknown    1117\n",
       "Name: gender, dtype: int64"
      ]
     },
     "execution_count": 18,
     "metadata": {},
     "output_type": "execute_result"
    }
   ],
   "source": [
    "# df.groupby('gender').size()\n",
    "df['gender'].value_counts()"
   ]
  },
  {
   "cell_type": "code",
   "execution_count": 19,
   "metadata": {},
   "outputs": [
    {
     "data": {
      "text/plain": [
       "female    6700\n",
       "male      6194\n",
       "brand     5942\n",
       "Name: gender, dtype: int64"
      ]
     },
     "execution_count": 19,
     "metadata": {},
     "output_type": "execute_result"
    }
   ],
   "source": [
    "drop_items_idx = df[df['gender'] == 'unknown'].index\n",
    "df.drop(index = drop_items_idx, inplace = True)\n",
    "\n",
    "df['gender'].value_counts()"
   ]
  },
  {
   "cell_type": "code",
   "execution_count": 20,
   "metadata": {},
   "outputs": [
    {
     "name": "stdout",
     "output_type": "stream",
     "text": [
      "profile_yn information:\n",
      " yes    18836\n",
      "no        97\n",
      "Name: profile_yn, dtype: int64\n"
     ]
    }
   ],
   "source": [
    "print ('profile_yn information:\\n',df['profile_yn'].value_counts())"
   ]
  },
  {
   "cell_type": "code",
   "execution_count": 21,
   "metadata": {},
   "outputs": [
    {
     "name": "stdout",
     "output_type": "stream",
     "text": [
      "yes    18836\n",
      "Name: profile_yn, dtype: int64\n"
     ]
    },
    {
     "data": {
      "text/plain": [
       "(18836, 9)"
      ]
     },
     "execution_count": 21,
     "metadata": {},
     "output_type": "execute_result"
    }
   ],
   "source": [
    "drop_items_idx = df[df['profile_yn'] == 'no'].index\n",
    "df.drop(index = drop_items_idx, inplace = True)\n",
    "print (df['profile_yn'].value_counts())\n",
    "# Drop not-required columns\n",
    "df.drop(columns = ['profile_yn','profile_yn:confidence','profile_yn_gold'], inplace = True)\n",
    "df.shape\n"
   ]
  },
  {
   "cell_type": "code",
   "execution_count": 22,
   "metadata": {},
   "outputs": [],
   "source": [
    "gender_dic = dict(df['gender'].value_counts())\n"
   ]
  },
  {
   "cell_type": "code",
   "execution_count": 26,
   "metadata": {
    "scrolled": true
   },
   "outputs": [
    {
     "data": {
      "image/png": "[encoded data removed]",
      "text/plain": [
       "<Figure size 432x288 with 1 Axes>"
      ]
     },
     "metadata": {},
     "output_type": "display_data"
    }
   ],
   "source": [
    "plt.bar(range(len(gender_dic)), list(gender_dic.values()), align='center')\n",
    "plt.xticks(range(len(gender_dic)), list(gender_dic.keys()))\n",
    "plt.show()"
   ]
  },
  {
   "cell_type": "code",
   "execution_count": 31,
   "metadata": {},
   "outputs": [],
   "source": [
    "# replace all special/generic characters/words to get count metrics\n",
    "def cleaning(s):\n",
    "    s = str(s) #s.encode('utf-8').strip()\n",
    "    s = s.lower()\n",
    "    s = re.sub('\\s\\W',' ',s) \n",
    "    s = re.sub('\\W,\\s',' ',s) \n",
    "    s = re.sub(r'[^\\w]', ' ', s)\n",
    "    s = re.sub(\"\\d+\", \" \", s)\n",
    "    s = re.sub('\\s+',' ',s)\n",
    "    s = re.sub('[!@#$_]', ' ', s) \n",
    "    s = s.replace(\"co\",\" \")\n",
    "    s = s.replace(\"https\",\" \")\n",
    "    s = s.replace(\",\",\"\")\n",
    "    s = s.replace(\"[\\w*\",\" \")\n",
    "    return s\n",
    "\n",
    "df['text_norm'] = [cleaning(s) for s in df['text']]"
   ]
  },
  {
   "cell_type": "code",
   "execution_count": 49,
   "metadata": {},
   "outputs": [
    {
     "data": {
      "text/plain": [
       "<matplotlib.axes._subplots.AxesSubplot at 0x7f0e5db7c828>"
      ]
     },
     "execution_count": 49,
     "metadata": {},
     "output_type": "execute_result"
    },
    {
     "data": {
      "image/png": "[encoded data removed]",
      "text/plain": [
       "<Figure size 432x288 with 1 Axes>"
      ]
     },
     "metadata": {},
     "output_type": "display_data"
    }
   ],
   "source": [
    "# get metrix of words for male users\n",
    "male=df[df['gender']=='male']\n",
    "vectorizer = CountVectorizer(stop_words='english')\n",
    "vectorizer.fit(male['text_norm'])\n",
    "vectorizer.transform(male['text_norm']).todense()\n",
    "X_train = pd.DataFrame(vectorizer.transform(male['text_norm']).todense(),\n",
    "                       columns=vectorizer.get_feature_names())\n",
    "word_counts = X_train.sum(axis=0)\n",
    "word_counts.sort_values(ascending = False).head(10).plot.barh()"
   ]
  },
  {
   "cell_type": "code",
   "execution_count": 53,
   "metadata": {},
   "outputs": [
    {
     "data": {
      "text/plain": [
       "<matplotlib.axes._subplots.AxesSubplot at 0x7f0e5de711d0>"
      ]
     },
     "execution_count": 53,
     "metadata": {},
     "output_type": "execute_result"
    },
    {
     "data": {
      "image/png": "[encoded data removed]",
      "text/plain": [
       "<Figure size 432x288 with 1 Axes>"
      ]
     },
     "metadata": {},
     "output_type": "display_data"
    }
   ],
   "source": [
    "# get metrix of words for female users\n",
    "female=df[df['gender']=='female']\n",
    "vectorizer = CountVectorizer(stop_words='english')\n",
    "vectorizer.fit(female['text_norm'])\n",
    "vectorizer.transform(male['text_norm']).todense()\n",
    "X_train = pd.DataFrame(vectorizer.transform(female['text_norm']).todense(),\n",
    "                       columns=vectorizer.get_feature_names())\n",
    "word_counts = X_train.sum(axis=0)\n",
    "word_counts.sort_values(ascending = False).head(10).plot.barh()"
   ]
  },
  {
   "cell_type": "code",
   "execution_count": 55,
   "metadata": {},
   "outputs": [
    {
     "data": {
      "text/plain": [
       "<matplotlib.axes._subplots.AxesSubplot at 0x7f0e5dff7550>"
      ]
     },
     "execution_count": 55,
     "metadata": {},
     "output_type": "execute_result"
    },
    {
     "data": {
      "image/png": "[encoded data removed]",
      "text/plain": [
       "<Figure size 432x288 with 1 Axes>"
      ]
     },
     "metadata": {},
     "output_type": "display_data"
    }
   ],
   "source": [
    "brand=df[df['gender']=='brand']\n",
    "vectorizer = CountVectorizer(stop_words='english')\n",
    "vectorizer.fit(brand['text_norm'])\n",
    "X_train = pd.DataFrame(vectorizer.transform(brand['text_norm']).todense(),\n",
    "                       columns=vectorizer.get_feature_names())\n",
    "word_counts = X_train.sum(axis=0)\n",
    "word_counts.sort_values(ascending = False).head(10).plot.barh()"
   ]
  },
  {
   "cell_type": "code",
   "execution_count": null,
   "metadata": {},
   "outputs": [],
   "source": []
  }
 ],
 "metadata": {
  "kernelspec": {
   "display_name": "Python 3",
   "language": "python",
   "name": "python3"
  },
  "language_info": {
   "codemirror_mode": {
    "name": "ipython",
    "version": 3
   },
   "file_extension": ".py",
   "mimetype": "text/x-python",
   "name": "python",
   "nbconvert_exporter": "python",
   "pygments_lexer": "ipython3",
   "version": "3.6.5"
  }
 },
 "nbformat": 4,
 "nbformat_minor": 2
}
