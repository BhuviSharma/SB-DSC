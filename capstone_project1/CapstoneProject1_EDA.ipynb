{
 "cells": [
  {
   "cell_type": "code",
   "execution_count": 62,
   "metadata": {},
   "outputs": [],
   "source": [
    "import pandas as pd\n",
    "import numpy as np\n",
    "import matplotlib.pyplot as plt\n",
    "import re\n",
    "from sklearn.feature_extraction.text import CountVectorizer"
   ]
  },
  {
   "cell_type": "code",
   "execution_count": 63,
   "metadata": {},
   "outputs": [
    {
     "data": {
      "text/html": [
       "<div>\n",
       "<style scoped>\n",
       "    .dataframe tbody tr th:only-of-type {\n",
       "        vertical-align: middle;\n",
       "    }\n",
       "\n",
       "    .dataframe tbody tr th {\n",
       "        vertical-align: top;\n",
       "    }\n",
       "\n",
       "    .dataframe thead th {\n",
       "        text-align: right;\n",
       "    }\n",
       "</style>\n",
       "<table border=\"1\" class=\"dataframe\">\n",
       "  <thead>\n",
       "    <tr style=\"text-align: right;\">\n",
       "      <th></th>\n",
       "      <th>_unit_id</th>\n",
       "      <th>_golden</th>\n",
       "      <th>_unit_state</th>\n",
       "      <th>_trusted_judgments</th>\n",
       "      <th>_last_judgment_at</th>\n",
       "      <th>gender</th>\n",
       "      <th>gender:confidence</th>\n",
       "      <th>profile_yn</th>\n",
       "      <th>profile_yn:confidence</th>\n",
       "      <th>created</th>\n",
       "      <th>...</th>\n",
       "      <th>profileimage</th>\n",
       "      <th>retweet_count</th>\n",
       "      <th>sidebar_color</th>\n",
       "      <th>text</th>\n",
       "      <th>tweet_coord</th>\n",
       "      <th>tweet_count</th>\n",
       "      <th>tweet_created</th>\n",
       "      <th>tweet_id</th>\n",
       "      <th>tweet_location</th>\n",
       "      <th>user_timezone</th>\n",
       "    </tr>\n",
       "  </thead>\n",
       "  <tbody>\n",
       "    <tr>\n",
       "      <th>3079</th>\n",
       "      <td>815722374</td>\n",
       "      <td>False</td>\n",
       "      <td>finalized</td>\n",
       "      <td>3</td>\n",
       "      <td>10/26/15 23:06</td>\n",
       "      <td>brand</td>\n",
       "      <td>1.0000</td>\n",
       "      <td>yes</td>\n",
       "      <td>1.0</td>\n",
       "      <td>5/12/12 11:15</td>\n",
       "      <td>...</td>\n",
       "      <td>https://pbs.twimg.com/profile_images/376762259...</td>\n",
       "      <td>0</td>\n",
       "      <td>FFFFFF</td>\n",
       "      <td>5 things you can do tonight to reverse the U.S...</td>\n",
       "      <td>NaN</td>\n",
       "      <td>63666</td>\n",
       "      <td>10/26/15 12:40</td>\n",
       "      <td>6.587300e+17</td>\n",
       "      <td>NaN</td>\n",
       "      <td>Atlantic Time (Canada)</td>\n",
       "    </tr>\n",
       "    <tr>\n",
       "      <th>17093</th>\n",
       "      <td>815736616</td>\n",
       "      <td>False</td>\n",
       "      <td>finalized</td>\n",
       "      <td>3</td>\n",
       "      <td>10/26/15 22:58</td>\n",
       "      <td>female</td>\n",
       "      <td>1.0000</td>\n",
       "      <td>yes</td>\n",
       "      <td>1.0</td>\n",
       "      <td>2/10/12 10:57</td>\n",
       "      <td>...</td>\n",
       "      <td>https://pbs.twimg.com/profile_images/652896825...</td>\n",
       "      <td>0</td>\n",
       "      <td>C0DEED</td>\n",
       "      <td>@givenachancex @CelebMix Just given you the pr...</td>\n",
       "      <td>NaN</td>\n",
       "      <td>5430</td>\n",
       "      <td>10/26/15 13:19</td>\n",
       "      <td>6.587400e+17</td>\n",
       "      <td>In my Louis bubble</td>\n",
       "      <td>Hawaii</td>\n",
       "    </tr>\n",
       "    <tr>\n",
       "      <th>10446</th>\n",
       "      <td>815729810</td>\n",
       "      <td>False</td>\n",
       "      <td>finalized</td>\n",
       "      <td>3</td>\n",
       "      <td>10/27/15 0:40</td>\n",
       "      <td>brand</td>\n",
       "      <td>1.0000</td>\n",
       "      <td>yes</td>\n",
       "      <td>1.0</td>\n",
       "      <td>3/4/15 15:27</td>\n",
       "      <td>...</td>\n",
       "      <td>https://pbs.twimg.com/profile_images/578515979...</td>\n",
       "      <td>0</td>\n",
       "      <td>C0DEED</td>\n",
       "      <td>@traceytyler14 Thanks for following us! Please...</td>\n",
       "      <td>NaN</td>\n",
       "      <td>3978</td>\n",
       "      <td>10/26/15 13:20</td>\n",
       "      <td>6.587400e+17</td>\n",
       "      <td>Medford, NJ</td>\n",
       "      <td>NaN</td>\n",
       "    </tr>\n",
       "    <tr>\n",
       "      <th>14037</th>\n",
       "      <td>815733494</td>\n",
       "      <td>False</td>\n",
       "      <td>finalized</td>\n",
       "      <td>3</td>\n",
       "      <td>10/26/15 21:59</td>\n",
       "      <td>female</td>\n",
       "      <td>0.6801</td>\n",
       "      <td>yes</td>\n",
       "      <td>1.0</td>\n",
       "      <td>6/2/15 4:27</td>\n",
       "      <td>...</td>\n",
       "      <td>https://pbs.twimg.com/profile_images/658345708...</td>\n",
       "      <td>0</td>\n",
       "      <td>0</td>\n",
       "      <td>MUKE IS REAL AND BETTER THAN LARRY \\n\\n https:...</td>\n",
       "      <td>NaN</td>\n",
       "      <td>15053</td>\n",
       "      <td>10/26/15 13:19</td>\n",
       "      <td>6.587400e+17</td>\n",
       "      <td>district 12</td>\n",
       "      <td>Pacific Time (US &amp; Canada)</td>\n",
       "    </tr>\n",
       "    <tr>\n",
       "      <th>11894</th>\n",
       "      <td>815731291</td>\n",
       "      <td>False</td>\n",
       "      <td>finalized</td>\n",
       "      <td>3</td>\n",
       "      <td>10/26/15 22:47</td>\n",
       "      <td>female</td>\n",
       "      <td>1.0000</td>\n",
       "      <td>yes</td>\n",
       "      <td>1.0</td>\n",
       "      <td>5/31/09 11:28</td>\n",
       "      <td>...</td>\n",
       "      <td>https://pbs.twimg.com/profile_images/551862138...</td>\n",
       "      <td>0</td>\n",
       "      <td>F2E195</td>\n",
       "      <td>@Amanda_Sanford @BuzzFeeders oh they'd have no...</td>\n",
       "      <td>NaN</td>\n",
       "      <td>1627</td>\n",
       "      <td>10/26/15 13:20</td>\n",
       "      <td>6.587400e+17</td>\n",
       "      <td>Mississippi, USA</td>\n",
       "      <td>Central Time (US &amp; Canada)</td>\n",
       "    </tr>\n",
       "  </tbody>\n",
       "</table>\n",
       "<p>5 rows × 26 columns</p>\n",
       "</div>"
      ],
      "text/plain": [
       "        _unit_id  _golden _unit_state  _trusted_judgments _last_judgment_at  \\\n",
       "3079   815722374    False   finalized                   3    10/26/15 23:06   \n",
       "17093  815736616    False   finalized                   3    10/26/15 22:58   \n",
       "10446  815729810    False   finalized                   3     10/27/15 0:40   \n",
       "14037  815733494    False   finalized                   3    10/26/15 21:59   \n",
       "11894  815731291    False   finalized                   3    10/26/15 22:47   \n",
       "\n",
       "       gender  gender:confidence profile_yn  profile_yn:confidence  \\\n",
       "3079    brand             1.0000        yes                    1.0   \n",
       "17093  female             1.0000        yes                    1.0   \n",
       "10446   brand             1.0000        yes                    1.0   \n",
       "14037  female             0.6801        yes                    1.0   \n",
       "11894  female             1.0000        yes                    1.0   \n",
       "\n",
       "             created             ...              \\\n",
       "3079   5/12/12 11:15             ...               \n",
       "17093  2/10/12 10:57             ...               \n",
       "10446   3/4/15 15:27             ...               \n",
       "14037    6/2/15 4:27             ...               \n",
       "11894  5/31/09 11:28             ...               \n",
       "\n",
       "                                            profileimage  retweet_count  \\\n",
       "3079   https://pbs.twimg.com/profile_images/376762259...              0   \n",
       "17093  https://pbs.twimg.com/profile_images/652896825...              0   \n",
       "10446  https://pbs.twimg.com/profile_images/578515979...              0   \n",
       "14037  https://pbs.twimg.com/profile_images/658345708...              0   \n",
       "11894  https://pbs.twimg.com/profile_images/551862138...              0   \n",
       "\n",
       "      sidebar_color                                               text  \\\n",
       "3079         FFFFFF  5 things you can do tonight to reverse the U.S...   \n",
       "17093        C0DEED  @givenachancex @CelebMix Just given you the pr...   \n",
       "10446        C0DEED  @traceytyler14 Thanks for following us! Please...   \n",
       "14037             0  MUKE IS REAL AND BETTER THAN LARRY \\n\\n https:...   \n",
       "11894        F2E195  @Amanda_Sanford @BuzzFeeders oh they'd have no...   \n",
       "\n",
       "      tweet_coord tweet_count   tweet_created      tweet_id  \\\n",
       "3079          NaN       63666  10/26/15 12:40  6.587300e+17   \n",
       "17093         NaN        5430  10/26/15 13:19  6.587400e+17   \n",
       "10446         NaN        3978  10/26/15 13:20  6.587400e+17   \n",
       "14037         NaN       15053  10/26/15 13:19  6.587400e+17   \n",
       "11894         NaN        1627  10/26/15 13:20  6.587400e+17   \n",
       "\n",
       "            tweet_location               user_timezone  \n",
       "3079                   NaN      Atlantic Time (Canada)  \n",
       "17093  In my Louis bubble                       Hawaii  \n",
       "10446          Medford, NJ                         NaN  \n",
       "14037          district 12  Pacific Time (US & Canada)  \n",
       "11894     Mississippi, USA  Central Time (US & Canada)  \n",
       "\n",
       "[5 rows x 26 columns]"
      ]
     },
     "execution_count": 63,
     "metadata": {},
     "output_type": "execute_result"
    }
   ],
   "source": [
    "df = pd.read_csv('data/gender-classifier-DFE-791531.csv', encoding='latin-1')\n",
    "df.sample(5)"
   ]
  },
  {
   "cell_type": "code",
   "execution_count": 64,
   "metadata": {},
   "outputs": [
    {
     "data": {
      "text/plain": [
       "(20050, 26)"
      ]
     },
     "execution_count": 64,
     "metadata": {},
     "output_type": "execute_result"
    }
   ],
   "source": [
    "df.shape"
   ]
  },
  {
   "cell_type": "code",
   "execution_count": 65,
   "metadata": {},
   "outputs": [
    {
     "data": {
      "text/plain": [
       "(20050, 13)"
      ]
     },
     "execution_count": 65,
     "metadata": {},
     "output_type": "execute_result"
    }
   ],
   "source": [
    "# Drop unnecessary columns/features\n",
    "#data = df[df['profile_yn_gold'] == 'no']\n",
    "column_to_drop = ['_last_judgment_at','user_timezone','tweet_coord','tweet_count','tweet_created',\n",
    "                  'tweet_id','tweet_location','profileimage','created','_golden','_unit_state',\n",
    "                  '_trusted_judgments','gender_gold']\n",
    "df.drop(columns =column_to_drop, inplace=True, axis=1)\n",
    "df.shape"
   ]
  },
  {
   "cell_type": "code",
   "execution_count": 66,
   "metadata": {},
   "outputs": [
    {
     "name": "stdout",
     "output_type": "stream",
     "text": [
      "<class 'pandas.core.frame.DataFrame'>\n",
      "RangeIndex: 20050 entries, 0 to 20049\n",
      "Data columns (total 13 columns):\n",
      "_unit_id                 20050 non-null int64\n",
      "gender                   19953 non-null object\n",
      "gender:confidence        20024 non-null float64\n",
      "profile_yn               20050 non-null object\n",
      "profile_yn:confidence    20050 non-null float64\n",
      "description              16306 non-null object\n",
      "fav_number               20050 non-null int64\n",
      "link_color               20050 non-null object\n",
      "name                     20050 non-null object\n",
      "profile_yn_gold          50 non-null object\n",
      "retweet_count            20050 non-null int64\n",
      "sidebar_color            20050 non-null object\n",
      "text                     20050 non-null object\n",
      "dtypes: float64(2), int64(3), object(8)\n",
      "memory usage: 2.0+ MB\n"
     ]
    }
   ],
   "source": [
    "df.info()"
   ]
  },
  {
   "cell_type": "code",
   "execution_count": 67,
   "metadata": {},
   "outputs": [
    {
     "data": {
      "text/plain": [
       "<matplotlib.axes._subplots.AxesSubplot at 0x7fb4ff886d30>"
      ]
     },
     "execution_count": 67,
     "metadata": {},
     "output_type": "execute_result"
    },
    {
     "data": {
      "image/png": "[encoded data removed]",
      "text/plain": [
       "<Figure size 432x288 with 1 Axes>"
      ]
     },
     "metadata": {},
     "output_type": "display_data"
    }
   ],
   "source": [
    "# df.groupby('gender').size()\n",
    "import seaborn as sns\n",
    "sns.countplot(df['gender'])"
   ]
  },
  {
   "cell_type": "code",
   "execution_count": 68,
   "metadata": {},
   "outputs": [
    {
     "data": {
      "text/plain": [
       "female    6700\n",
       "male      6194\n",
       "brand     5942\n",
       "Name: gender, dtype: int64"
      ]
     },
     "execution_count": 68,
     "metadata": {},
     "output_type": "execute_result"
    }
   ],
   "source": [
    "drop_items_idx = df[df['gender'] == 'unknown'].index\n",
    "df.drop(index = drop_items_idx, inplace = True)\n",
    "\n",
    "df['gender'].value_counts()"
   ]
  },
  {
   "cell_type": "code",
   "execution_count": 69,
   "metadata": {},
   "outputs": [
    {
     "name": "stdout",
     "output_type": "stream",
     "text": [
      "profile_yn information:\n",
      " yes    18836\n",
      "no        97\n",
      "Name: profile_yn, dtype: int64\n"
     ]
    }
   ],
   "source": [
    "print ('profile_yn information:\\n',df['profile_yn'].value_counts())"
   ]
  },
  {
   "cell_type": "code",
   "execution_count": 70,
   "metadata": {},
   "outputs": [
    {
     "name": "stdout",
     "output_type": "stream",
     "text": [
      "yes    18836\n",
      "Name: profile_yn, dtype: int64\n"
     ]
    },
    {
     "data": {
      "text/plain": [
       "(18836, 10)"
      ]
     },
     "execution_count": 70,
     "metadata": {},
     "output_type": "execute_result"
    }
   ],
   "source": [
    "drop_items_idx = df[df['profile_yn'] == 'no'].index\n",
    "df.drop(index = drop_items_idx, inplace = True)\n",
    "print (df['profile_yn'].value_counts())\n",
    "# Drop not-required columns\n",
    "df.drop(columns = ['profile_yn','profile_yn:confidence','profile_yn_gold'], inplace = True)\n",
    "df.shape\n"
   ]
  },
  {
   "cell_type": "code",
   "execution_count": 71,
   "metadata": {},
   "outputs": [],
   "source": [
    "gender_dic = dict(df['gender'].value_counts())\n"
   ]
  },
  {
   "cell_type": "code",
   "execution_count": 72,
   "metadata": {
    "scrolled": true
   },
   "outputs": [
    {
     "data": {
      "image/png": "[encoded data removed]",
      "text/plain": [
       "<Figure size 432x288 with 1 Axes>"
      ]
     },
     "metadata": {},
     "output_type": "display_data"
    }
   ],
   "source": [
    "plt.bar(range(len(gender_dic)), list(gender_dic.values()), align='center')\n",
    "plt.xticks(range(len(gender_dic)), list(gender_dic.keys()))\n",
    "plt.show()"
   ]
  },
  {
   "cell_type": "code",
   "execution_count": 79,
   "metadata": {},
   "outputs": [
    {
     "data": {
      "text/html": [
       "<div>\n",
       "<style scoped>\n",
       "    .dataframe tbody tr th:only-of-type {\n",
       "        vertical-align: middle;\n",
       "    }\n",
       "\n",
       "    .dataframe tbody tr th {\n",
       "        vertical-align: top;\n",
       "    }\n",
       "\n",
       "    .dataframe thead th {\n",
       "        text-align: right;\n",
       "    }\n",
       "</style>\n",
       "<table border=\"1\" class=\"dataframe\">\n",
       "  <thead>\n",
       "    <tr style=\"text-align: right;\">\n",
       "      <th>Total Count :</th>\n",
       "      <th>18836</th>\n",
       "    </tr>\n",
       "    <tr>\n",
       "      <th>Gender</th>\n",
       "      <th></th>\n",
       "    </tr>\n",
       "  </thead>\n",
       "  <tbody>\n",
       "    <tr>\n",
       "      <th>brand</th>\n",
       "      <td>5942</td>\n",
       "    </tr>\n",
       "    <tr>\n",
       "      <th>female</th>\n",
       "      <td>6700</td>\n",
       "    </tr>\n",
       "    <tr>\n",
       "      <th>male</th>\n",
       "      <td>6194</td>\n",
       "    </tr>\n",
       "  </tbody>\n",
       "</table>\n",
       "</div>"
      ],
      "text/plain": [
       "Total Count :   18836\n",
       "Gender               \n",
       "brand            5942\n",
       "female           6700\n",
       "male             6194"
      ]
     },
     "execution_count": 79,
     "metadata": {},
     "output_type": "execute_result"
    }
   ],
   "source": [
    "pd.crosstab(df.gender, df._unit_id.count(), rownames=['Gender'], colnames=['Total Count : '])"
   ]
  },
  {
   "cell_type": "code",
   "execution_count": 82,
   "metadata": {},
   "outputs": [
    {
     "data": {
      "text/plain": [
       "gender\n",
       "brand     5942\n",
       "male      6194\n",
       "female    6700\n",
       "dtype: int64"
      ]
     },
     "execution_count": 82,
     "metadata": {},
     "output_type": "execute_result"
    }
   ],
   "source": [
    "df.groupby('gender').size().sort_values(ascending=True)"
   ]
  },
  {
   "cell_type": "code",
   "execution_count": null,
   "metadata": {},
   "outputs": [],
   "source": []
  }
 ],
 "metadata": {
  "kernelspec": {
   "display_name": "Python 3",
   "language": "python",
   "name": "python3"
  },
  "language_info": {
   "codemirror_mode": {
    "name": "ipython",
    "version": 3
   },
   "file_extension": ".py",
   "mimetype": "text/x-python",
   "name": "python",
   "nbconvert_exporter": "python",
   "pygments_lexer": "ipython3",
   "version": "3.6.5"
  }
 },
 "nbformat": 4,
 "nbformat_minor": 2
}
